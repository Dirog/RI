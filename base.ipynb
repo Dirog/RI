{
 "cells": [
  {
   "cell_type": "code",
   "execution_count": 1,
   "metadata": {},
   "outputs": [],
   "source": [
    "import numpy as np\n",
    "import autoencoder\n",
    "import matplotlib.pyplot as plt\n",
    "from sklearn.utils import shuffle\n",
    "from sklearn.metrics import plot_confusion_matrix\n",
    "from sklearn.neighbors import KNeighborsClassifier\n",
    "\n",
    "from scipy.signal import hann"
   ]
  },
  {
   "cell_type": "code",
   "execution_count": 2,
   "metadata": {},
   "outputs": [],
   "source": [
    "days = '012'\n",
    "fullXtrain = np.load(f'./datasets/Xtrain_tx0_days{days}.npy')\n",
    "fullYtrain = np.load(f'./datasets/Ytrain_tx0_days{days}.npy')\n",
    "fullXtest = np.load('./datasets/Xtest_tx0_days3.npy')\n",
    "fullYtest = np.load('./datasets/Ytest_tx0_days3.npy')"
   ]
  },
  {
   "cell_type": "code",
   "execution_count": 3,
   "metadata": {},
   "outputs": [],
   "source": [
    "filXtrain = []\n",
    "filYtrain = []\n",
    "filXtest = []\n",
    "filYtest = []\n",
    "\n",
    "for i in range(len(fullXtrain)):\n",
    "    if fullYtrain[i] not in [5,8,14,24,25]:\n",
    "        filXtrain.append(fullXtrain[i])\n",
    "        filYtrain.append(fullYtrain[i])\n",
    "\n",
    "for i in range(len(fullXtest)):\n",
    "    if fullYtest[i] not in [5,8,14,24,25]:\n",
    "        filXtest.append(fullXtest[i])\n",
    "        filYtest.append(fullYtest[i])"
   ]
  },
  {
   "cell_type": "code",
   "execution_count": 4,
   "metadata": {},
   "outputs": [],
   "source": [
    "rawXtrain, Ytrain = shuffle(filXtrain, filYtrain, n_samples=15800)\n",
    "rawXtest, Ytest = shuffle(filXtest, filYtest, n_samples=3000)\n",
    "rawXdev, Ydev = shuffle(filXtest, filYtest, n_samples=3000)"
   ]
  },
  {
   "cell_type": "code",
   "execution_count": 5,
   "metadata": {},
   "outputs": [],
   "source": [
    "Xtrain = np.abs(np.fft.fft(rawXtrain * hann(len(rawXtrain[0]))))\n",
    "Xtest = np.abs(np.fft.fft(rawXtest * hann(len(rawXtest[0]))))\n",
    "Xdev = np.abs(np.fft.fft(rawXdev * hann(len(rawXdev[0]))))"
   ]
  },
  {
   "cell_type": "code",
   "execution_count": 6,
   "metadata": {},
   "outputs": [
    {
     "name": "stdout",
     "output_type": "stream",
     "text": [
      "Model: \"model\"\n",
      "_________________________________________________________________\n",
      " Layer (type)                Output Shape              Param #   \n",
      "=================================================================\n",
      " input_1 (InputLayer)        [(None, 200)]             0         \n",
      "                                                                 \n",
      " dense (Dense)               (None, 200)               40200     \n",
      "                                                                 \n",
      " dense_1 (Dense)             (None, 64)                12864     \n",
      "                                                                 \n",
      " dense_2 (Dense)             (None, 32)                2080      \n",
      "                                                                 \n",
      " dense_3 (Dense)             (None, 12)                396       \n",
      "                                                                 \n",
      " dense_4 (Dense)             (None, 32)                416       \n",
      "                                                                 \n",
      " dense_5 (Dense)             (None, 64)                2112      \n",
      "                                                                 \n",
      " dense_6 (Dense)             (None, 200)               13000     \n",
      "                                                                 \n",
      "=================================================================\n",
      "Total params: 71,068\n",
      "Trainable params: 71,068\n",
      "Non-trainable params: 0\n",
      "_________________________________________________________________\n"
     ]
    }
   ],
   "source": [
    "autoenc, encoder = autoencoder.model(200, 12, loss='mean_squared_error')"
   ]
  },
  {
   "cell_type": "code",
   "execution_count": 7,
   "metadata": {},
   "outputs": [
    {
     "name": "stdout",
     "output_type": "stream",
     "text": [
      "Epoch 1/100\n",
      "494/494 [==============================] - 3s 5ms/step - loss: 0.1159 - val_loss: 0.0891\n",
      "Epoch 2/100\n",
      "494/494 [==============================] - 3s 7ms/step - loss: 0.0734 - val_loss: 0.0749\n",
      "Epoch 3/100\n",
      "494/494 [==============================] - 4s 7ms/step - loss: 0.0661 - val_loss: 0.0615\n",
      "Epoch 4/100\n",
      "494/494 [==============================] - 3s 5ms/step - loss: 0.0537 - val_loss: 0.0600\n",
      "Epoch 5/100\n",
      "494/494 [==============================] - 1s 3ms/step - loss: 0.0531 - val_loss: 0.0597\n",
      "Epoch 6/100\n",
      "494/494 [==============================] - 1s 3ms/step - loss: 0.0528 - val_loss: 0.0593\n",
      "Epoch 7/100\n",
      "494/494 [==============================] - 1s 3ms/step - loss: 0.0525 - val_loss: 0.0590\n",
      "Epoch 8/100\n",
      "494/494 [==============================] - 1s 3ms/step - loss: 0.0522 - val_loss: 0.0587\n",
      "Epoch 9/100\n",
      "494/494 [==============================] - 1s 3ms/step - loss: 0.0513 - val_loss: 0.0444\n",
      "Epoch 10/100\n",
      "494/494 [==============================] - 1s 3ms/step - loss: 0.0376 - val_loss: 0.0431\n",
      "Epoch 11/100\n",
      "494/494 [==============================] - 1s 3ms/step - loss: 0.0374 - val_loss: 0.0429\n",
      "Epoch 12/100\n",
      "494/494 [==============================] - 1s 3ms/step - loss: 0.0372 - val_loss: 0.0429\n",
      "Epoch 13/100\n",
      "494/494 [==============================] - 1s 3ms/step - loss: 0.0372 - val_loss: 0.0429\n",
      "Epoch 14/100\n",
      "494/494 [==============================] - 1s 3ms/step - loss: 0.0370 - val_loss: 0.0423\n",
      "Epoch 15/100\n",
      "494/494 [==============================] - 1s 3ms/step - loss: 0.0367 - val_loss: 0.0423\n",
      "Epoch 16/100\n",
      "494/494 [==============================] - 1s 3ms/step - loss: 0.0364 - val_loss: 0.0416\n",
      "Epoch 17/100\n",
      "494/494 [==============================] - 1s 3ms/step - loss: 0.0361 - val_loss: 0.0415\n",
      "Epoch 18/100\n",
      "494/494 [==============================] - 1s 3ms/step - loss: 0.0361 - val_loss: 0.0414\n",
      "Epoch 19/100\n",
      "494/494 [==============================] - 1s 3ms/step - loss: 0.0357 - val_loss: 0.0408\n",
      "Epoch 20/100\n",
      "494/494 [==============================] - 1s 3ms/step - loss: 0.0353 - val_loss: 0.0403\n",
      "Epoch 21/100\n",
      "494/494 [==============================] - 1s 3ms/step - loss: 0.0352 - val_loss: 0.0401\n",
      "Epoch 22/100\n",
      "494/494 [==============================] - 1s 3ms/step - loss: 0.0351 - val_loss: 0.0400\n",
      "Epoch 23/100\n",
      "494/494 [==============================] - 1s 3ms/step - loss: 0.0350 - val_loss: 0.0400\n",
      "Epoch 24/100\n",
      "494/494 [==============================] - 1s 3ms/step - loss: 0.0348 - val_loss: 0.0393\n",
      "Epoch 25/100\n",
      "494/494 [==============================] - 1s 3ms/step - loss: 0.0345 - val_loss: 0.0394\n",
      "Epoch 26/100\n",
      "494/494 [==============================] - 1s 3ms/step - loss: 0.0344 - val_loss: 0.0393\n",
      "Epoch 27/100\n",
      "494/494 [==============================] - 1s 3ms/step - loss: 0.0342 - val_loss: 0.0389\n",
      "Epoch 28/100\n",
      "494/494 [==============================] - 1s 3ms/step - loss: 0.0340 - val_loss: 0.0387\n",
      "Epoch 29/100\n",
      "494/494 [==============================] - 1s 3ms/step - loss: 0.0337 - val_loss: 0.0383\n",
      "Epoch 30/100\n",
      "494/494 [==============================] - 1s 3ms/step - loss: 0.0229 - val_loss: 0.0255\n",
      "Epoch 31/100\n",
      "494/494 [==============================] - 1s 3ms/step - loss: 0.0195 - val_loss: 0.0254\n",
      "Epoch 32/100\n",
      "494/494 [==============================] - 1s 3ms/step - loss: 0.0194 - val_loss: 0.0252\n",
      "Epoch 33/100\n",
      "494/494 [==============================] - 1s 3ms/step - loss: 0.0194 - val_loss: 0.0252\n",
      "Epoch 34/100\n",
      "494/494 [==============================] - 1s 3ms/step - loss: 0.0194 - val_loss: 0.0251\n",
      "Epoch 35/100\n",
      "494/494 [==============================] - 1s 3ms/step - loss: 0.0193 - val_loss: 0.0252\n",
      "Epoch 36/100\n",
      "494/494 [==============================] - 1s 3ms/step - loss: 0.0193 - val_loss: 0.0252\n",
      "Epoch 37/100\n",
      "494/494 [==============================] - 1s 3ms/step - loss: 0.0193 - val_loss: 0.0251\n",
      "Epoch 38/100\n",
      "494/494 [==============================] - 1s 3ms/step - loss: 0.0193 - val_loss: 0.0253\n",
      "Epoch 39/100\n",
      "494/494 [==============================] - 1s 3ms/step - loss: 0.0192 - val_loss: 0.0245\n",
      "Epoch 40/100\n",
      "494/494 [==============================] - 1s 3ms/step - loss: 0.0187 - val_loss: 0.0244\n",
      "Epoch 41/100\n",
      "494/494 [==============================] - 2s 3ms/step - loss: 0.0187 - val_loss: 0.0246\n",
      "Epoch 42/100\n",
      "494/494 [==============================] - 1s 3ms/step - loss: 0.0187 - val_loss: 0.0246\n",
      "Epoch 43/100\n",
      "494/494 [==============================] - 1s 3ms/step - loss: 0.0187 - val_loss: 0.0245\n",
      "Epoch 44/100\n",
      "494/494 [==============================] - 1s 3ms/step - loss: 0.0187 - val_loss: 0.0245\n",
      "Epoch 45/100\n",
      "494/494 [==============================] - 1s 3ms/step - loss: 0.0186 - val_loss: 0.0244\n",
      "Epoch 46/100\n",
      "494/494 [==============================] - 1s 3ms/step - loss: 0.0186 - val_loss: 0.0244\n",
      "Epoch 47/100\n",
      "494/494 [==============================] - 1s 3ms/step - loss: 0.0186 - val_loss: 0.0244\n",
      "Epoch 48/100\n",
      "494/494 [==============================] - 1s 3ms/step - loss: 0.0186 - val_loss: 0.0245\n",
      "Epoch 49/100\n",
      "494/494 [==============================] - 1s 3ms/step - loss: 0.0186 - val_loss: 0.0245\n",
      "Epoch 50/100\n",
      "494/494 [==============================] - 1s 3ms/step - loss: 0.0186 - val_loss: 0.0243\n",
      "Epoch 51/100\n",
      "494/494 [==============================] - 1s 3ms/step - loss: 0.0186 - val_loss: 0.0244\n",
      "Epoch 52/100\n",
      "494/494 [==============================] - 1s 3ms/step - loss: 0.0185 - val_loss: 0.0243\n",
      "Epoch 53/100\n",
      "494/494 [==============================] - 1s 3ms/step - loss: 0.0185 - val_loss: 0.0240\n",
      "Epoch 54/100\n",
      "494/494 [==============================] - 1s 3ms/step - loss: 0.0183 - val_loss: 0.0241\n",
      "Epoch 55/100\n",
      "494/494 [==============================] - 1s 3ms/step - loss: 0.0183 - val_loss: 0.0239\n",
      "Epoch 56/100\n",
      "494/494 [==============================] - 1s 3ms/step - loss: 0.0182 - val_loss: 0.0240\n",
      "Epoch 57/100\n",
      "494/494 [==============================] - 1s 3ms/step - loss: 0.0182 - val_loss: 0.0240\n",
      "Epoch 58/100\n",
      "494/494 [==============================] - 1s 3ms/step - loss: 0.0182 - val_loss: 0.0240\n",
      "Epoch 59/100\n",
      "494/494 [==============================] - 1s 3ms/step - loss: 0.0182 - val_loss: 0.0239\n",
      "Epoch 60/100\n",
      "494/494 [==============================] - 1s 3ms/step - loss: 0.0182 - val_loss: 0.0239\n",
      "Epoch 61/100\n",
      "494/494 [==============================] - 1s 3ms/step - loss: 0.0181 - val_loss: 0.0238\n",
      "Epoch 62/100\n",
      "494/494 [==============================] - 1s 3ms/step - loss: 0.0181 - val_loss: 0.0235\n",
      "Epoch 63/100\n",
      "494/494 [==============================] - 1s 3ms/step - loss: 0.0177 - val_loss: 0.0233\n",
      "Epoch 64/100\n",
      "494/494 [==============================] - 1s 3ms/step - loss: 0.0176 - val_loss: 0.0228\n",
      "Epoch 65/100\n",
      "494/494 [==============================] - 1s 3ms/step - loss: 0.0172 - val_loss: 0.0231\n",
      "Epoch 66/100\n",
      "494/494 [==============================] - 1s 3ms/step - loss: 0.0172 - val_loss: 0.0229\n",
      "Epoch 67/100\n",
      "494/494 [==============================] - 1s 3ms/step - loss: 0.0172 - val_loss: 0.0228\n",
      "Epoch 68/100\n",
      "494/494 [==============================] - 1s 3ms/step - loss: 0.0172 - val_loss: 0.0229\n",
      "Epoch 69/100\n",
      "494/494 [==============================] - 1s 3ms/step - loss: 0.0172 - val_loss: 0.0227\n",
      "Epoch 70/100\n",
      "494/494 [==============================] - 1s 3ms/step - loss: 0.0172 - val_loss: 0.0229\n",
      "Epoch 71/100\n",
      "494/494 [==============================] - 1s 3ms/step - loss: 0.0172 - val_loss: 0.0229\n",
      "Epoch 72/100\n",
      "494/494 [==============================] - 1s 3ms/step - loss: 0.0172 - val_loss: 0.0230\n",
      "Epoch 73/100\n",
      "494/494 [==============================] - 1s 3ms/step - loss: 0.0172 - val_loss: 0.0229\n",
      "Epoch 74/100\n",
      "494/494 [==============================] - 1s 3ms/step - loss: 0.0171 - val_loss: 0.0228\n",
      "Epoch 75/100\n",
      "494/494 [==============================] - 1s 3ms/step - loss: 0.0171 - val_loss: 0.0229\n",
      "Epoch 76/100\n",
      "494/494 [==============================] - 1s 3ms/step - loss: 0.0171 - val_loss: 0.0228\n",
      "Epoch 77/100\n",
      "494/494 [==============================] - 1s 3ms/step - loss: 0.0171 - val_loss: 0.0229\n",
      "Epoch 78/100\n",
      "494/494 [==============================] - 1s 3ms/step - loss: 0.0171 - val_loss: 0.0228\n",
      "Epoch 79/100\n",
      "494/494 [==============================] - 1s 3ms/step - loss: 0.0171 - val_loss: 0.0228\n",
      "Epoch 80/100\n",
      "494/494 [==============================] - 1s 3ms/step - loss: 0.0171 - val_loss: 0.0228\n",
      "Epoch 81/100\n",
      "494/494 [==============================] - 1s 3ms/step - loss: 0.0171 - val_loss: 0.0228\n",
      "Epoch 82/100\n",
      "494/494 [==============================] - 1s 3ms/step - loss: 0.0170 - val_loss: 0.0228\n",
      "Epoch 83/100\n",
      "494/494 [==============================] - 1s 3ms/step - loss: 0.0168 - val_loss: 0.0226\n",
      "Epoch 84/100\n",
      "494/494 [==============================] - 1s 3ms/step - loss: 0.0167 - val_loss: 0.0225\n",
      "Epoch 85/100\n",
      "494/494 [==============================] - 1s 3ms/step - loss: 0.0167 - val_loss: 0.0225\n",
      "Epoch 86/100\n",
      "494/494 [==============================] - 1s 3ms/step - loss: 0.0167 - val_loss: 0.0225\n",
      "Epoch 87/100\n",
      "494/494 [==============================] - 1s 3ms/step - loss: 0.0167 - val_loss: 0.0225\n",
      "Epoch 88/100\n",
      "494/494 [==============================] - 1s 3ms/step - loss: 0.0167 - val_loss: 0.0224\n",
      "Epoch 89/100\n",
      "494/494 [==============================] - 1s 3ms/step - loss: 0.0167 - val_loss: 0.0223\n",
      "Epoch 90/100\n",
      "494/494 [==============================] - 1s 3ms/step - loss: 0.0167 - val_loss: 0.0223\n",
      "Epoch 91/100\n",
      "494/494 [==============================] - 1s 3ms/step - loss: 0.0166 - val_loss: 0.0225\n",
      "Epoch 92/100\n",
      "494/494 [==============================] - 1s 3ms/step - loss: 0.0166 - val_loss: 0.0224\n",
      "Epoch 93/100\n",
      "494/494 [==============================] - 1s 3ms/step - loss: 0.0166 - val_loss: 0.0224\n",
      "Epoch 94/100\n",
      "494/494 [==============================] - 1s 3ms/step - loss: 0.0166 - val_loss: 0.0223\n",
      "Epoch 95/100\n",
      "494/494 [==============================] - 1s 3ms/step - loss: 0.0166 - val_loss: 0.0224\n",
      "Epoch 96/100\n",
      "494/494 [==============================] - 1s 3ms/step - loss: 0.0166 - val_loss: 0.0224\n",
      "Epoch 97/100\n",
      "494/494 [==============================] - 1s 3ms/step - loss: 0.0166 - val_loss: 0.0223\n",
      "Epoch 98/100\n",
      "494/494 [==============================] - 1s 3ms/step - loss: 0.0166 - val_loss: 0.0222\n",
      "Epoch 99/100\n",
      "494/494 [==============================] - 1s 3ms/step - loss: 0.0166 - val_loss: 0.0223\n",
      "Epoch 100/100\n",
      "494/494 [==============================] - 1s 3ms/step - loss: 0.0166 - val_loss: 0.0223\n"
     ]
    },
    {
     "data": {
      "image/png": "[encoded data removed]",
      "text/plain": [
       "<Figure size 432x288 with 1 Axes>"
      ]
     },
     "metadata": {
      "needs_background": "light"
     },
     "output_type": "display_data"
    }
   ],
   "source": [
    "history = autoenc.fit(Xtrain, Xtrain, validation_data=(Xdev, Xdev), epochs=100)\n",
    "plt.plot(history.history['loss'])\n",
    "plt.plot(history.history['val_loss'])\n",
    "plt.xlabel('epoch'); plt.ylabel('loss')\n",
    "plt.title('model loss'); plt.grid()\n",
    "plt.show()"
   ]
  },
  {
   "cell_type": "code",
   "execution_count": 8,
   "metadata": {},
   "outputs": [
    {
     "name": "stdout",
     "output_type": "stream",
     "text": [
      "94/94 [==============================] - 0s 3ms/step\n",
      "494/494 [==============================] - 1s 2ms/step\n",
      "94/94 [==============================] - 0s 2ms/step\n"
     ]
    }
   ],
   "source": [
    "encXtest = encoder.predict(Xtest)\n",
    "encXtrain = encoder.predict(Xtrain)\n",
    "encXdev = encoder.predict(Xdev)"
   ]
  },
  {
   "cell_type": "code",
   "execution_count": 9,
   "metadata": {},
   "outputs": [
    {
     "data": {
      "text/html": [
       "<style>#sk-container-id-1 {color: black;background-color: white;}#sk-container-id-1 pre{padding: 0;}#sk-container-id-1 div.sk-toggleable {background-color: white;}#sk-container-id-1 label.sk-toggleable__label {cursor: pointer;display: block;width: 100%;margin-bottom: 0;padding: 0.3em;box-sizing: border-box;text-align: center;}#sk-container-id-1 label.sk-toggleable__label-arrow:before {content: \"▸\";float: left;margin-right: 0.25em;color: #696969;}#sk-container-id-1 label.sk-toggleable__label-arrow:hover:before {color: black;}#sk-container-id-1 div.sk-estimator:hover label.sk-toggleable__label-arrow:before {color: black;}#sk-container-id-1 div.sk-toggleable__content {max-height: 0;max-width: 0;overflow: hidden;text-align: left;background-color: #f0f8ff;}#sk-container-id-1 div.sk-toggleable__content pre {margin: 0.2em;color: black;border-radius: 0.25em;background-color: #f0f8ff;}#sk-container-id-1 input.sk-toggleable__control:checked~div.sk-toggleable__content {max-height: 200px;max-width: 100%;overflow: auto;}#sk-container-id-1 input.sk-toggleable__control:checked~label.sk-toggleable__label-arrow:before {content: \"▾\";}#sk-container-id-1 div.sk-estimator input.sk-toggleable__control:checked~label.sk-toggleable__label {background-color: #d4ebff;}#sk-container-id-1 div.sk-label input.sk-toggleable__control:checked~label.sk-toggleable__label {background-color: #d4ebff;}#sk-container-id-1 input.sk-hidden--visually {border: 0;clip: rect(1px 1px 1px 1px);clip: rect(1px, 1px, 1px, 1px);height: 1px;margin: -1px;overflow: hidden;padding: 0;position: absolute;width: 1px;}#sk-container-id-1 div.sk-estimator {font-family: monospace;background-color: #f0f8ff;border: 1px dotted black;border-radius: 0.25em;box-sizing: border-box;margin-bottom: 0.5em;}#sk-container-id-1 div.sk-estimator:hover {background-color: #d4ebff;}#sk-container-id-1 div.sk-parallel-item::after {content: \"\";width: 100%;border-bottom: 1px solid gray;flex-grow: 1;}#sk-container-id-1 div.sk-label:hover label.sk-toggleable__label {background-color: #d4ebff;}#sk-container-id-1 div.sk-serial::before {content: \"\";position: absolute;border-left: 1px solid gray;box-sizing: border-box;top: 0;bottom: 0;left: 50%;z-index: 0;}#sk-container-id-1 div.sk-serial {display: flex;flex-direction: column;align-items: center;background-color: white;padding-right: 0.2em;padding-left: 0.2em;position: relative;}#sk-container-id-1 div.sk-item {position: relative;z-index: 1;}#sk-container-id-1 div.sk-parallel {display: flex;align-items: stretch;justify-content: center;background-color: white;position: relative;}#sk-container-id-1 div.sk-item::before, #sk-container-id-1 div.sk-parallel-item::before {content: \"\";position: absolute;border-left: 1px solid gray;box-sizing: border-box;top: 0;bottom: 0;left: 50%;z-index: -1;}#sk-container-id-1 div.sk-parallel-item {display: flex;flex-direction: column;z-index: 1;position: relative;background-color: white;}#sk-container-id-1 div.sk-parallel-item:first-child::after {align-self: flex-end;width: 50%;}#sk-container-id-1 div.sk-parallel-item:last-child::after {align-self: flex-start;width: 50%;}#sk-container-id-1 div.sk-parallel-item:only-child::after {width: 0;}#sk-container-id-1 div.sk-dashed-wrapped {border: 1px dashed gray;margin: 0 0.4em 0.5em 0.4em;box-sizing: border-box;padding-bottom: 0.4em;background-color: white;}#sk-container-id-1 div.sk-label label {font-family: monospace;font-weight: bold;display: inline-block;line-height: 1.2em;}#sk-container-id-1 div.sk-label-container {text-align: center;}#sk-container-id-1 div.sk-container {/* jupyter's `normalize.less` sets `[hidden] { display: none; }` but bootstrap.min.css set `[hidden] { display: none !important; }` so we also need the `!important` here to be able to override the default hidden behavior on the sphinx rendered scikit-learn.org. See: https://github.com/scikit-learn/scikit-learn/issues/21755 */display: inline-block !important;position: relative;}#sk-container-id-1 div.sk-text-repr-fallback {display: none;}</style><div id=\"sk-container-id-1\" class=\"sk-top-container\"><div class=\"sk-text-repr-fallback\"><pre>KNeighborsClassifier(metric=&#x27;cosine&#x27;, n_neighbors=4, weights=&#x27;distance&#x27;)</pre><b>In a Jupyter environment, please rerun this cell to show the HTML representation or trust the notebook. <br />On GitHub, the HTML representation is unable to render, please try loading this page with nbviewer.org.</b></div><div class=\"sk-container\" hidden><div class=\"sk-item\"><div class=\"sk-estimator sk-toggleable\"><input class=\"sk-toggleable__control sk-hidden--visually\" id=\"sk-estimator-id-1\" type=\"checkbox\" checked><label for=\"sk-estimator-id-1\" class=\"sk-toggleable__label sk-toggleable__label-arrow\">KNeighborsClassifier</label><div class=\"sk-toggleable__content\"><pre>KNeighborsClassifier(metric=&#x27;cosine&#x27;, n_neighbors=4, weights=&#x27;distance&#x27;)</pre></div></div></div></div></div>"
      ],
      "text/plain": [
       "KNeighborsClassifier(metric='cosine', n_neighbors=4, weights='distance')"
      ]
     },
     "execution_count": 9,
     "metadata": {},
     "output_type": "execute_result"
    }
   ],
   "source": [
    "classifier = KNeighborsClassifier(n_neighbors=4, weights='distance', metric='cosine')\n",
    "classifier.fit(encXtrain, Ytrain)"
   ]
  },
  {
   "cell_type": "code",
   "execution_count": 10,
   "metadata": {},
   "outputs": [
    {
     "name": "stdout",
     "output_type": "stream",
     "text": [
      "Test score:  0.9606666666666667\n",
      "Dev score:  0.9593333333333334\n"
     ]
    }
   ],
   "source": [
    "#print(\"Train score: \", classifier.score(encXtrain, Ytrain))\n",
    "print(\"Test score: \", classifier.score(encXtest, Ytest))\n",
    "print(\"Dev score: \", classifier.score(encXdev, Ydev))"
   ]
  },
  {
   "cell_type": "code",
   "execution_count": 11,
   "metadata": {},
   "outputs": [
    {
     "name": "stderr",
     "output_type": "stream",
     "text": [
      "/home/dirog/.local/lib/python3.10/site-packages/sklearn/utils/deprecation.py:87: FutureWarning: Function plot_confusion_matrix is deprecated; Function `plot_confusion_matrix` is deprecated in 1.0 and will be removed in 1.2. Use one of the class methods: ConfusionMatrixDisplay.from_predictions or ConfusionMatrixDisplay.from_estimator.\n",
      "  warnings.warn(msg, category=FutureWarning)\n"
     ]
    },
    {
     "data": {
      "text/plain": [
       "<sklearn.metrics._plot.confusion_matrix.ConfusionMatrixDisplay at 0x7f49c4237280>"
      ]
     },
     "execution_count": 11,
     "metadata": {},
     "output_type": "execute_result"
    },
    {
     "data": {
      "image/png": "[encoded data removed]",
      "text/plain": [
       "<Figure size 864x864 with 2 Axes>"
      ]
     },
     "metadata": {
      "needs_background": "light"
     },
     "output_type": "display_data"
    }
   ],
   "source": [
    "fig, ax = plt.subplots(figsize=(12, 12))\n",
    "plot_confusion_matrix(classifier, encXtest, Ytest, ax=ax)"
   ]
  }
 ],
 "metadata": {
  "kernelspec": {
   "display_name": "Python 3.10.6 64-bit",
   "language": "python",
   "name": "python3"
  },
  "language_info": {
   "codemirror_mode": {
    "name": "ipython",
    "version": 3
   },
   "file_extension": ".py",
   "mimetype": "text/x-python",
   "name": "python",
   "nbconvert_exporter": "python",
   "pygments_lexer": "ipython3",
   "version": "3.10.6"
  },
  "orig_nbformat": 4,
  "vscode": {
   "interpreter": {
    "hash": "916dbcbb3f70747c44a77c7bcd40155683ae19c65e1c03b4aa3499c5328201f1"
   }
  }
 },
 "nbformat": 4,
 "nbformat_minor": 2
}
