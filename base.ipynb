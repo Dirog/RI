{
 "cells": [
  {
   "cell_type": "code",
   "execution_count": 1,
   "metadata": {},
   "outputs": [],
   "source": [
    "import numpy as np\n",
    "import autoencoder\n",
    "import matplotlib.pyplot as plt\n",
    "from sklearn.utils import shuffle\n",
    "from sklearn.metrics import plot_confusion_matrix\n",
    "from sklearn.neighbors import KNeighborsClassifier\n",
    "\n",
    "from scipy.signal import hann"
   ]
  },
  {
   "cell_type": "code",
   "execution_count": 2,
   "metadata": {},
   "outputs": [],
   "source": [
    "days = '012'\n",
    "fullXtrain = np.load(f'./datasets/Xtrain_tx0_days{days}.npy')\n",
    "fullYtrain = np.load(f'./datasets/Ytrain_tx0_days{days}.npy')\n",
    "fullXtest = np.load('./datasets/Xtest_tx0_days3.npy')\n",
    "fullYtest = np.load('./datasets/Ytest_tx0_days3.npy')"
   ]
  },
  {
   "cell_type": "code",
   "execution_count": 3,
   "metadata": {},
   "outputs": [],
   "source": [
    "filXtrain = []\n",
    "filYtrain = []\n",
    "filXtest = []\n",
    "filYtest = []\n",
    "\n",
    "for i in range(len(fullXtrain)):\n",
    "    if fullYtrain[i] not in [5,8,14,24,25]:\n",
    "        filXtrain.append(fullXtrain[i])\n",
    "        filYtrain.append(fullYtrain[i])\n",
    "\n",
    "for i in range(len(fullXtest)):\n",
    "    if fullYtest[i] not in [5,8,14,24,25]:\n",
    "        filXtest.append(fullXtest[i])\n",
    "        filYtest.append(fullYtest[i])"
   ]
  },
  {
   "cell_type": "code",
   "execution_count": 4,
   "metadata": {},
   "outputs": [],
   "source": [
    "rawXtrain, Ytrain = shuffle(filXtrain, filYtrain, n_samples=1*5000)\n",
    "rawXtest, Ytest = shuffle(filXtest, filYtest, n_samples=2000)\n",
    "rawXdev, Ydev = shuffle(filXtest, filYtest, n_samples=2000)"
   ]
  },
  {
   "cell_type": "code",
   "execution_count": 5,
   "metadata": {},
   "outputs": [],
   "source": [
    "Xtrain = np.abs(np.fft.fft(rawXtrain * hann(len(rawXtrain[0]))))\n",
    "Xtest = np.abs(np.fft.fft(rawXtest * hann(len(rawXtrain[0]))))\n",
    "Xdev = np.abs(np.fft.fft(rawXdev * hann(len(rawXtrain[0]))))"
   ]
  },
  {
   "cell_type": "code",
   "execution_count": 6,
   "metadata": {},
   "outputs": [
    {
     "name": "stdout",
     "output_type": "stream",
     "text": [
      "Model: \"model\"\n",
      "_________________________________________________________________\n",
      " Layer (type)                Output Shape              Param #   \n",
      "=================================================================\n",
      " input_1 (InputLayer)        [(None, 200)]             0         \n",
      "                                                                 \n",
      " dense (Dense)               (None, 200)               40200     \n",
      "                                                                 \n",
      " dense_1 (Dense)             (None, 64)                12864     \n",
      "                                                                 \n",
      " dense_2 (Dense)             (None, 32)                2080      \n",
      "                                                                 \n",
      " dense_3 (Dense)             (None, 12)                396       \n",
      "                                                                 \n",
      " dense_4 (Dense)             (None, 32)                416       \n",
      "                                                                 \n",
      " dense_5 (Dense)             (None, 64)                2112      \n",
      "                                                                 \n",
      " dense_6 (Dense)             (None, 200)               13000     \n",
      "                                                                 \n",
      "=================================================================\n",
      "Total params: 71,068\n",
      "Trainable params: 71,068\n",
      "Non-trainable params: 0\n",
      "_________________________________________________________________\n"
     ]
    }
   ],
   "source": [
    "autoenc, encoder = autoencoder.model(200, 12, loss='mean_squared_error')"
   ]
  },
  {
   "cell_type": "code",
   "execution_count": 7,
   "metadata": {},
   "outputs": [
    {
     "name": "stdout",
     "output_type": "stream",
     "text": [
      "Epoch 1/100\n",
      "157/157 [==============================] - 1s 4ms/step - loss: 0.3597 - val_loss: 0.1946\n",
      "Epoch 2/100\n",
      "157/157 [==============================] - 1s 4ms/step - loss: 0.1257 - val_loss: 0.1241\n",
      "Epoch 3/100\n",
      "157/157 [==============================] - 1s 4ms/step - loss: 0.0953 - val_loss: 0.1090\n",
      "Epoch 4/100\n",
      "157/157 [==============================] - 1s 4ms/step - loss: 0.0843 - val_loss: 0.0999\n",
      "Epoch 5/100\n",
      "157/157 [==============================] - 1s 3ms/step - loss: 0.0783 - val_loss: 0.0961\n",
      "Epoch 6/100\n",
      "157/157 [==============================] - 1s 4ms/step - loss: 0.0756 - val_loss: 0.0936\n",
      "Epoch 7/100\n",
      "157/157 [==============================] - 1s 6ms/step - loss: 0.0730 - val_loss: 0.0890\n",
      "Epoch 8/100\n",
      "157/157 [==============================] - 1s 8ms/step - loss: 0.0703 - val_loss: 0.0876\n",
      "Epoch 9/100\n",
      "157/157 [==============================] - 1s 6ms/step - loss: 0.0677 - val_loss: 0.0843\n",
      "Epoch 10/100\n",
      "157/157 [==============================] - 1s 8ms/step - loss: 0.0649 - val_loss: 0.0812\n",
      "Epoch 11/100\n",
      "157/157 [==============================] - 1s 7ms/step - loss: 0.0612 - val_loss: 0.0782\n",
      "Epoch 12/100\n",
      "157/157 [==============================] - 1s 5ms/step - loss: 0.0589 - val_loss: 0.0759\n",
      "Epoch 13/100\n",
      "157/157 [==============================] - 1s 5ms/step - loss: 0.0571 - val_loss: 0.0743\n",
      "Epoch 14/100\n",
      "157/157 [==============================] - 1s 5ms/step - loss: 0.0557 - val_loss: 0.0727\n",
      "Epoch 15/100\n",
      "157/157 [==============================] - 1s 4ms/step - loss: 0.0548 - val_loss: 0.0727\n",
      "Epoch 16/100\n",
      "157/157 [==============================] - 1s 3ms/step - loss: 0.0540 - val_loss: 0.0714\n",
      "Epoch 17/100\n",
      "157/157 [==============================] - 1s 3ms/step - loss: 0.0526 - val_loss: 0.0704\n",
      "Epoch 18/100\n",
      "157/157 [==============================] - 1s 3ms/step - loss: 0.0516 - val_loss: 0.0690\n",
      "Epoch 19/100\n",
      "157/157 [==============================] - 1s 3ms/step - loss: 0.0510 - val_loss: 0.0683\n",
      "Epoch 20/100\n",
      "157/157 [==============================] - 1s 4ms/step - loss: 0.0492 - val_loss: 0.0645\n",
      "Epoch 21/100\n",
      "157/157 [==============================] - 1s 3ms/step - loss: 0.0477 - val_loss: 0.0636\n",
      "Epoch 22/100\n",
      "157/157 [==============================] - 1s 3ms/step - loss: 0.0458 - val_loss: 0.0601\n",
      "Epoch 23/100\n",
      "157/157 [==============================] - 1s 4ms/step - loss: 0.0443 - val_loss: 0.0596\n",
      "Epoch 24/100\n",
      "157/157 [==============================] - 1s 3ms/step - loss: 0.0435 - val_loss: 0.0589\n",
      "Epoch 25/100\n",
      "157/157 [==============================] - 1s 3ms/step - loss: 0.0431 - val_loss: 0.0585\n",
      "Epoch 26/100\n",
      "157/157 [==============================] - 1s 3ms/step - loss: 0.0426 - val_loss: 0.0589\n",
      "Epoch 27/100\n",
      "157/157 [==============================] - 1s 3ms/step - loss: 0.0423 - val_loss: 0.0567\n",
      "Epoch 28/100\n",
      "157/157 [==============================] - 1s 4ms/step - loss: 0.0411 - val_loss: 0.0562\n",
      "Epoch 29/100\n",
      "157/157 [==============================] - 1s 3ms/step - loss: 0.0407 - val_loss: 0.0562\n",
      "Epoch 30/100\n",
      "157/157 [==============================] - 1s 3ms/step - loss: 0.0406 - val_loss: 0.0564\n",
      "Epoch 31/100\n",
      "157/157 [==============================] - 1s 3ms/step - loss: 0.0404 - val_loss: 0.0553\n",
      "Epoch 32/100\n",
      "157/157 [==============================] - 1s 3ms/step - loss: 0.0399 - val_loss: 0.0550\n",
      "Epoch 33/100\n",
      "157/157 [==============================] - 1s 3ms/step - loss: 0.0396 - val_loss: 0.0552\n",
      "Epoch 34/100\n",
      "157/157 [==============================] - 1s 3ms/step - loss: 0.0395 - val_loss: 0.0543\n",
      "Epoch 35/100\n",
      "157/157 [==============================] - 1s 3ms/step - loss: 0.0391 - val_loss: 0.0534\n",
      "Epoch 36/100\n",
      "157/157 [==============================] - 1s 3ms/step - loss: 0.0388 - val_loss: 0.0543\n",
      "Epoch 37/100\n",
      "157/157 [==============================] - 1s 3ms/step - loss: 0.0388 - val_loss: 0.0536\n",
      "Epoch 38/100\n",
      "157/157 [==============================] - 1s 3ms/step - loss: 0.0384 - val_loss: 0.0533\n",
      "Epoch 39/100\n",
      "157/157 [==============================] - 0s 3ms/step - loss: 0.0381 - val_loss: 0.0532\n",
      "Epoch 40/100\n",
      "157/157 [==============================] - 0s 3ms/step - loss: 0.0380 - val_loss: 0.0531\n",
      "Epoch 41/100\n",
      "157/157 [==============================] - 0s 3ms/step - loss: 0.0379 - val_loss: 0.0525\n",
      "Epoch 42/100\n",
      "157/157 [==============================] - 1s 3ms/step - loss: 0.0377 - val_loss: 0.0528\n",
      "Epoch 43/100\n",
      "157/157 [==============================] - 0s 3ms/step - loss: 0.0375 - val_loss: 0.0526\n",
      "Epoch 44/100\n",
      "157/157 [==============================] - 0s 3ms/step - loss: 0.0373 - val_loss: 0.0521\n",
      "Epoch 45/100\n",
      "157/157 [==============================] - 0s 3ms/step - loss: 0.0372 - val_loss: 0.0523\n",
      "Epoch 46/100\n",
      "157/157 [==============================] - 1s 3ms/step - loss: 0.0370 - val_loss: 0.0521\n",
      "Epoch 47/100\n",
      "157/157 [==============================] - 0s 3ms/step - loss: 0.0370 - val_loss: 0.0520\n",
      "Epoch 48/100\n",
      "157/157 [==============================] - 1s 3ms/step - loss: 0.0368 - val_loss: 0.0521\n",
      "Epoch 49/100\n",
      "157/157 [==============================] - 0s 3ms/step - loss: 0.0369 - val_loss: 0.0518\n",
      "Epoch 50/100\n",
      "157/157 [==============================] - 1s 3ms/step - loss: 0.0366 - val_loss: 0.0513\n",
      "Epoch 51/100\n",
      "157/157 [==============================] - 1s 3ms/step - loss: 0.0364 - val_loss: 0.0515\n",
      "Epoch 52/100\n",
      "157/157 [==============================] - 1s 3ms/step - loss: 0.0365 - val_loss: 0.0508\n",
      "Epoch 53/100\n",
      "157/157 [==============================] - 0s 3ms/step - loss: 0.0361 - val_loss: 0.0512\n",
      "Epoch 54/100\n",
      "157/157 [==============================] - 1s 3ms/step - loss: 0.0360 - val_loss: 0.0512\n",
      "Epoch 55/100\n",
      "157/157 [==============================] - 0s 3ms/step - loss: 0.0360 - val_loss: 0.0507\n",
      "Epoch 56/100\n",
      "157/157 [==============================] - 1s 3ms/step - loss: 0.0358 - val_loss: 0.0507\n",
      "Epoch 57/100\n",
      "157/157 [==============================] - 0s 3ms/step - loss: 0.0358 - val_loss: 0.0507\n",
      "Epoch 58/100\n",
      "157/157 [==============================] - 1s 3ms/step - loss: 0.0356 - val_loss: 0.0506\n",
      "Epoch 59/100\n",
      "157/157 [==============================] - 0s 3ms/step - loss: 0.0355 - val_loss: 0.0510\n",
      "Epoch 60/100\n",
      "157/157 [==============================] - 0s 3ms/step - loss: 0.0353 - val_loss: 0.0503\n",
      "Epoch 61/100\n",
      "157/157 [==============================] - 0s 3ms/step - loss: 0.0353 - val_loss: 0.0503\n",
      "Epoch 62/100\n",
      "157/157 [==============================] - 1s 3ms/step - loss: 0.0351 - val_loss: 0.0504\n",
      "Epoch 63/100\n",
      "157/157 [==============================] - 1s 3ms/step - loss: 0.0350 - val_loss: 0.0501\n",
      "Epoch 64/100\n",
      "157/157 [==============================] - 0s 3ms/step - loss: 0.0351 - val_loss: 0.0500\n",
      "Epoch 65/100\n",
      "157/157 [==============================] - 0s 3ms/step - loss: 0.0349 - val_loss: 0.0500\n",
      "Epoch 66/100\n",
      "157/157 [==============================] - 1s 3ms/step - loss: 0.0348 - val_loss: 0.0500\n",
      "Epoch 67/100\n",
      "157/157 [==============================] - 0s 3ms/step - loss: 0.0348 - val_loss: 0.0494\n",
      "Epoch 68/100\n",
      "157/157 [==============================] - 1s 3ms/step - loss: 0.0347 - val_loss: 0.0490\n",
      "Epoch 69/100\n",
      "157/157 [==============================] - 0s 3ms/step - loss: 0.0345 - val_loss: 0.0497\n",
      "Epoch 70/100\n",
      "157/157 [==============================] - 1s 3ms/step - loss: 0.0347 - val_loss: 0.0499\n",
      "Epoch 71/100\n",
      "157/157 [==============================] - 0s 3ms/step - loss: 0.0345 - val_loss: 0.0494\n",
      "Epoch 72/100\n",
      "157/157 [==============================] - 1s 3ms/step - loss: 0.0345 - val_loss: 0.0493\n",
      "Epoch 73/100\n",
      "157/157 [==============================] - 1s 3ms/step - loss: 0.0343 - val_loss: 0.0488\n",
      "Epoch 74/100\n",
      "157/157 [==============================] - 1s 3ms/step - loss: 0.0343 - val_loss: 0.0495\n",
      "Epoch 75/100\n",
      "157/157 [==============================] - 1s 3ms/step - loss: 0.0341 - val_loss: 0.0491\n",
      "Epoch 76/100\n",
      "157/157 [==============================] - 1s 3ms/step - loss: 0.0340 - val_loss: 0.0500\n",
      "Epoch 77/100\n",
      "157/157 [==============================] - 1s 3ms/step - loss: 0.0341 - val_loss: 0.0489\n",
      "Epoch 78/100\n",
      "157/157 [==============================] - 0s 3ms/step - loss: 0.0340 - val_loss: 0.0487\n",
      "Epoch 79/100\n",
      "157/157 [==============================] - 0s 3ms/step - loss: 0.0339 - val_loss: 0.0493\n",
      "Epoch 80/100\n",
      "157/157 [==============================] - 1s 3ms/step - loss: 0.0338 - val_loss: 0.0485\n",
      "Epoch 81/100\n",
      "157/157 [==============================] - 1s 3ms/step - loss: 0.0338 - val_loss: 0.0487\n",
      "Epoch 82/100\n",
      "157/157 [==============================] - 1s 3ms/step - loss: 0.0337 - val_loss: 0.0487\n",
      "Epoch 83/100\n",
      "157/157 [==============================] - 0s 3ms/step - loss: 0.0337 - val_loss: 0.0485\n",
      "Epoch 84/100\n",
      "157/157 [==============================] - 0s 3ms/step - loss: 0.0336 - val_loss: 0.0485\n",
      "Epoch 85/100\n",
      "157/157 [==============================] - 1s 3ms/step - loss: 0.0334 - val_loss: 0.0485\n",
      "Epoch 86/100\n",
      "157/157 [==============================] - 1s 3ms/step - loss: 0.0335 - val_loss: 0.0492\n",
      "Epoch 87/100\n",
      "157/157 [==============================] - 0s 3ms/step - loss: 0.0334 - val_loss: 0.0484\n",
      "Epoch 88/100\n",
      "157/157 [==============================] - 1s 3ms/step - loss: 0.0333 - val_loss: 0.0488\n",
      "Epoch 89/100\n",
      "157/157 [==============================] - 0s 3ms/step - loss: 0.0332 - val_loss: 0.0484\n",
      "Epoch 90/100\n",
      "157/157 [==============================] - 0s 3ms/step - loss: 0.0333 - val_loss: 0.0486\n",
      "Epoch 91/100\n",
      "157/157 [==============================] - 0s 3ms/step - loss: 0.0332 - val_loss: 0.0483\n",
      "Epoch 92/100\n",
      "157/157 [==============================] - 1s 3ms/step - loss: 0.0330 - val_loss: 0.0485\n",
      "Epoch 93/100\n",
      "157/157 [==============================] - 1s 3ms/step - loss: 0.0330 - val_loss: 0.0483\n",
      "Epoch 94/100\n",
      "157/157 [==============================] - 0s 3ms/step - loss: 0.0330 - val_loss: 0.0483\n",
      "Epoch 95/100\n",
      "157/157 [==============================] - 1s 4ms/step - loss: 0.0330 - val_loss: 0.0480\n",
      "Epoch 96/100\n",
      "157/157 [==============================] - 1s 3ms/step - loss: 0.0329 - val_loss: 0.0483\n",
      "Epoch 97/100\n",
      "157/157 [==============================] - 1s 3ms/step - loss: 0.0330 - val_loss: 0.0485\n",
      "Epoch 98/100\n",
      "157/157 [==============================] - 1s 3ms/step - loss: 0.0328 - val_loss: 0.0492\n",
      "Epoch 99/100\n",
      "157/157 [==============================] - 0s 3ms/step - loss: 0.0329 - val_loss: 0.0484\n",
      "Epoch 100/100\n",
      "157/157 [==============================] - 1s 3ms/step - loss: 0.0329 - val_loss: 0.0478\n"
     ]
    },
    {
     "data": {
      "image/png": "[encoded data removed]",
      "text/plain": [
       "<Figure size 432x288 with 1 Axes>"
      ]
     },
     "metadata": {
      "needs_background": "light"
     },
     "output_type": "display_data"
    }
   ],
   "source": [
    "history = autoenc.fit(Xtrain, Xtrain, validation_data=(Xdev, Xdev), epochs=100)\n",
    "plt.plot(history.history['loss'])\n",
    "plt.plot(history.history['val_loss'])\n",
    "plt.xlabel('epoch'); plt.ylabel('loss')\n",
    "plt.title('model loss'); plt.grid()\n",
    "plt.show()"
   ]
  },
  {
   "cell_type": "code",
   "execution_count": 8,
   "metadata": {},
   "outputs": [
    {
     "name": "stdout",
     "output_type": "stream",
     "text": [
      "63/63 [==============================] - 0s 1ms/step\n",
      "157/157 [==============================] - 0s 1ms/step\n",
      "63/63 [==============================] - 0s 2ms/step\n"
     ]
    }
   ],
   "source": [
    "encXtest = encoder.predict(Xtest)\n",
    "encXtrain = encoder.predict(Xtrain)\n",
    "encXdev = encoder.predict(Xdev)"
   ]
  },
  {
   "cell_type": "code",
   "execution_count": 10,
   "metadata": {},
   "outputs": [
    {
     "data": {
      "text/html": [
       "<style>#sk-container-id-1 {color: black;background-color: white;}#sk-container-id-1 pre{padding: 0;}#sk-container-id-1 div.sk-toggleable {background-color: white;}#sk-container-id-1 label.sk-toggleable__label {cursor: pointer;display: block;width: 100%;margin-bottom: 0;padding: 0.3em;box-sizing: border-box;text-align: center;}#sk-container-id-1 label.sk-toggleable__label-arrow:before {content: \"▸\";float: left;margin-right: 0.25em;color: #696969;}#sk-container-id-1 label.sk-toggleable__label-arrow:hover:before {color: black;}#sk-container-id-1 div.sk-estimator:hover label.sk-toggleable__label-arrow:before {color: black;}#sk-container-id-1 div.sk-toggleable__content {max-height: 0;max-width: 0;overflow: hidden;text-align: left;background-color: #f0f8ff;}#sk-container-id-1 div.sk-toggleable__content pre {margin: 0.2em;color: black;border-radius: 0.25em;background-color: #f0f8ff;}#sk-container-id-1 input.sk-toggleable__control:checked~div.sk-toggleable__content {max-height: 200px;max-width: 100%;overflow: auto;}#sk-container-id-1 input.sk-toggleable__control:checked~label.sk-toggleable__label-arrow:before {content: \"▾\";}#sk-container-id-1 div.sk-estimator input.sk-toggleable__control:checked~label.sk-toggleable__label {background-color: #d4ebff;}#sk-container-id-1 div.sk-label input.sk-toggleable__control:checked~label.sk-toggleable__label {background-color: #d4ebff;}#sk-container-id-1 input.sk-hidden--visually {border: 0;clip: rect(1px 1px 1px 1px);clip: rect(1px, 1px, 1px, 1px);height: 1px;margin: -1px;overflow: hidden;padding: 0;position: absolute;width: 1px;}#sk-container-id-1 div.sk-estimator {font-family: monospace;background-color: #f0f8ff;border: 1px dotted black;border-radius: 0.25em;box-sizing: border-box;margin-bottom: 0.5em;}#sk-container-id-1 div.sk-estimator:hover {background-color: #d4ebff;}#sk-container-id-1 div.sk-parallel-item::after {content: \"\";width: 100%;border-bottom: 1px solid gray;flex-grow: 1;}#sk-container-id-1 div.sk-label:hover label.sk-toggleable__label {background-color: #d4ebff;}#sk-container-id-1 div.sk-serial::before {content: \"\";position: absolute;border-left: 1px solid gray;box-sizing: border-box;top: 0;bottom: 0;left: 50%;z-index: 0;}#sk-container-id-1 div.sk-serial {display: flex;flex-direction: column;align-items: center;background-color: white;padding-right: 0.2em;padding-left: 0.2em;position: relative;}#sk-container-id-1 div.sk-item {position: relative;z-index: 1;}#sk-container-id-1 div.sk-parallel {display: flex;align-items: stretch;justify-content: center;background-color: white;position: relative;}#sk-container-id-1 div.sk-item::before, #sk-container-id-1 div.sk-parallel-item::before {content: \"\";position: absolute;border-left: 1px solid gray;box-sizing: border-box;top: 0;bottom: 0;left: 50%;z-index: -1;}#sk-container-id-1 div.sk-parallel-item {display: flex;flex-direction: column;z-index: 1;position: relative;background-color: white;}#sk-container-id-1 div.sk-parallel-item:first-child::after {align-self: flex-end;width: 50%;}#sk-container-id-1 div.sk-parallel-item:last-child::after {align-self: flex-start;width: 50%;}#sk-container-id-1 div.sk-parallel-item:only-child::after {width: 0;}#sk-container-id-1 div.sk-dashed-wrapped {border: 1px dashed gray;margin: 0 0.4em 0.5em 0.4em;box-sizing: border-box;padding-bottom: 0.4em;background-color: white;}#sk-container-id-1 div.sk-label label {font-family: monospace;font-weight: bold;display: inline-block;line-height: 1.2em;}#sk-container-id-1 div.sk-label-container {text-align: center;}#sk-container-id-1 div.sk-container {/* jupyter's `normalize.less` sets `[hidden] { display: none; }` but bootstrap.min.css set `[hidden] { display: none !important; }` so we also need the `!important` here to be able to override the default hidden behavior on the sphinx rendered scikit-learn.org. See: https://github.com/scikit-learn/scikit-learn/issues/21755 */display: inline-block !important;position: relative;}#sk-container-id-1 div.sk-text-repr-fallback {display: none;}</style><div id=\"sk-container-id-1\" class=\"sk-top-container\"><div class=\"sk-text-repr-fallback\"><pre>KNeighborsClassifier(metric=&#x27;cosine&#x27;, n_neighbors=4, weights=&#x27;distance&#x27;)</pre><b>In a Jupyter environment, please rerun this cell to show the HTML representation or trust the notebook. <br />On GitHub, the HTML representation is unable to render, please try loading this page with nbviewer.org.</b></div><div class=\"sk-container\" hidden><div class=\"sk-item\"><div class=\"sk-estimator sk-toggleable\"><input class=\"sk-toggleable__control sk-hidden--visually\" id=\"sk-estimator-id-1\" type=\"checkbox\" checked><label for=\"sk-estimator-id-1\" class=\"sk-toggleable__label sk-toggleable__label-arrow\">KNeighborsClassifier</label><div class=\"sk-toggleable__content\"><pre>KNeighborsClassifier(metric=&#x27;cosine&#x27;, n_neighbors=4, weights=&#x27;distance&#x27;)</pre></div></div></div></div></div>"
      ],
      "text/plain": [
       "KNeighborsClassifier(metric='cosine', n_neighbors=4, weights='distance')"
      ]
     },
     "execution_count": 10,
     "metadata": {},
     "output_type": "execute_result"
    }
   ],
   "source": [
    "classifier = KNeighborsClassifier(n_neighbors=4, weights='distance', metric='cosine')\n",
    "classifier.fit(encXtrain, Ytrain)"
   ]
  },
  {
   "cell_type": "code",
   "execution_count": 11,
   "metadata": {},
   "outputs": [
    {
     "name": "stdout",
     "output_type": "stream",
     "text": [
      "Test score:  0.918\n",
      "Dev score:  0.902\n"
     ]
    }
   ],
   "source": [
    "#print(\"Train score: \", classifier.score(encXtrain, Ytrain))\n",
    "print(\"Test score: \", classifier.score(encXtest, Ytest))\n",
    "print(\"Dev score: \", classifier.score(encXdev, Ydev))"
   ]
  },
  {
   "cell_type": "code",
   "execution_count": null,
   "metadata": {},
   "outputs": [],
   "source": [
    "fig, ax = plt.subplots(figsize=(12, 12))\n",
    "plot_confusion_matrix(classifier, encXtest, Ytest, ax=ax)"
   ]
  },
  {
   "cell_type": "code",
   "execution_count": null,
   "metadata": {},
   "outputs": [],
   "source": [
    "0.8525\n",
    "0.8255\n",
    "0.8465"
   ]
  }
 ],
 "metadata": {
  "kernelspec": {
   "display_name": "Python 3.10.6 64-bit",
   "language": "python",
   "name": "python3"
  },
  "language_info": {
   "codemirror_mode": {
    "name": "ipython",
    "version": 3
   },
   "file_extension": ".py",
   "mimetype": "text/x-python",
   "name": "python",
   "nbconvert_exporter": "python",
   "pygments_lexer": "ipython3",
   "version": "3.10.6"
  },
  "orig_nbformat": 4,
  "vscode": {
   "interpreter": {
    "hash": "916dbcbb3f70747c44a77c7bcd40155683ae19c65e1c03b4aa3499c5328201f1"
   }
  }
 },
 "nbformat": 4,
 "nbformat_minor": 2
}
